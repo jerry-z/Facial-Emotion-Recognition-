{
 "cells": [
  {
   "cell_type": "code",
   "execution_count": 1,
   "metadata": {},
   "outputs": [],
   "source": [
    "import numpy as np\n",
    "import pandas as pd\n",
    "import matplotlib as plt\n",
    "import warnings\n",
    "\n",
    "warnings.filterwarnings('ignore')\n",
    "\n",
    "data = pd.read_csv('dense_data_type_and_emot.csv', header = None)\n",
    "y_label = np.array(data[[0,1]])\n",
    "data.drop(data.columns[[0,1]],axis=1,inplace=True)"
   ]
  },
  {
   "cell_type": "code",
   "execution_count": 2,
   "metadata": {},
   "outputs": [],
   "source": [
    "feature = []\n",
    "for item in list(data.columns):\n",
    "    name = 'feature' + str(int(item)-1)\n",
    "    feature.append(name)\n",
    "\n",
    "data.columns = feature"
   ]
  },
  {
   "cell_type": "code",
   "execution_count": 3,
   "metadata": {},
   "outputs": [
    {
     "data": {
      "text/plain": [
       "array([0.67729084, 0.67729084, 0.67729084, 0.67729084, 0.676     ,\n",
       "       0.68      , 0.67871486, 0.67871486, 0.67871486, 0.67871486])"
      ]
     },
     "execution_count": 3,
     "metadata": {},
     "output_type": "execute_result"
    }
   ],
   "source": [
    "from sklearn.model_selection import cross_val_score\n",
    "from sklearn.ensemble import GradientBoostingClassifier\n",
    "\n",
    "gbdt_clf = GradientBoostingClassifier(learning_rate=0.01,max_depth=5,max_features=20,n_estimators=50)\n",
    "scores = cross_val_score(gbdt_clf, data, y_label[:,0], cv=10)\n",
    "scores"
   ]
  },
  {
   "cell_type": "code",
   "execution_count": 4,
   "metadata": {},
   "outputs": [],
   "source": [
    "gbdt_clf.fit(data, y_label[:,0])\n",
    "importance = gbdt_clf.feature_importances_\n",
    "names = data.columns.values.tolist()\n",
    "sort_list = sorted(zip(map(lambda x: round(x, 3), gbdt_clf.feature_importances_), names), reverse=True)"
   ]
  },
  {
   "cell_type": "code",
   "execution_count": 5,
   "metadata": {},
   "outputs": [],
   "source": [
    "select_feature=[]\n",
    "for k,v in sort_list:\n",
    "    if k != 0.0:\n",
    "        select_feature.append(v)\n",
    "select_data = data[select_feature]"
   ]
  },
  {
   "cell_type": "code",
   "execution_count": 8,
   "metadata": {},
   "outputs": [
    {
     "name": "stdout",
     "output_type": "stream",
     "text": [
      "Fitting 5 folds for each of 108 candidates, totalling 540 fits\n"
     ]
    },
    {
     "name": "stderr",
     "output_type": "stream",
     "text": [
      "[Parallel(n_jobs=1)]: Done 540 out of 540 | elapsed: 19.1min finished\n"
     ]
    },
    {
     "data": {
      "text/plain": [
       "({'learning_rate': 0.005,\n",
       "  'max_depth': 5,\n",
       "  'max_features': 10,\n",
       "  'n_estimators': 20},\n",
       " 0.6776)"
      ]
     },
     "execution_count": 8,
     "metadata": {},
     "output_type": "execute_result"
    }
   ],
   "source": [
    "from sklearn.grid_search import GridSearchCV\n",
    "warnings.filterwarnings('ignore')\n",
    "\n",
    "gbdt_param_grid = {'learning_rate':[0.005,0.01,0.1],\n",
    "                   'n_estimators':[20,50,100],\n",
    "                   'max_depth':[5,10,15],\n",
    "                   'max_features':np.arange(10,90,20),\n",
    "                   }\n",
    "\n",
    "gbdt_clf = GradientBoostingClassifier(**gbdt_param_grid)\n",
    "\n",
    "gbdt_grid = GridSearchCV(gbdt_clf,\n",
    "                    param_grid=gbdt_param_grid,\n",
    "                    cv=5,\n",
    "                    verbose=1,\n",
    "                    scoring='accuracy')\n",
    "\n",
    "gbdt_grid.fit(select_data, y_label[:,0])\n",
    "gbdt_grid.best_params_, gbdt_grid.best_score_"
   ]
  },
  {
   "cell_type": "code",
   "execution_count": 12,
   "metadata": {},
   "outputs": [
    {
     "name": "stdout",
     "output_type": "stream",
     "text": [
      "Fitting 5 folds for each of 12 candidates, totalling 60 fits\n"
     ]
    },
    {
     "name": "stderr",
     "output_type": "stream",
     "text": [
      "[Parallel(n_jobs=1)]: Done  60 out of  60 | elapsed: 35.3min finished\n"
     ]
    },
    {
     "data": {
      "text/plain": [
       "({'C': 0.001, 'kernel': 'rbf'}, 0.6776)"
      ]
     },
     "execution_count": 12,
     "metadata": {},
     "output_type": "execute_result"
    }
   ],
   "source": [
    "from sklearn.svm import SVC\n",
    "\n",
    "svm_param_grid = {'C':[0.001,0.01,0.1],\n",
    "                   'kernel':['rbf', 'linear', 'poly', 'sigmoid']}\n",
    "\n",
    "svm_clf = SVC(**svm_param_grid)\n",
    "\n",
    "svm_grid = GridSearchCV(svm_clf,\n",
    "                    param_grid=svm_param_grid,\n",
    "                    cv=5,\n",
    "                    verbose = 1,\n",
    "                    scoring='accuracy')\n",
    "\n",
    "svm_grid.fit(select_data, y_label[:,0])\n",
    "svm_grid.best_params_, svm_grid.best_score_"
   ]
  },
  {
   "cell_type": "code",
   "execution_count": 24,
   "metadata": {},
   "outputs": [
    {
     "data": {
      "text/plain": [
       "0.6776002832011329"
      ]
     },
     "execution_count": 24,
     "metadata": {},
     "output_type": "execute_result"
    }
   ],
   "source": [
    "from sklearn.ensemble import VotingClassifier\n",
    "\n",
    "gbdt_model = GradientBoostingClassifier(**gbdt_grid.best_params_)\n",
    "svm_model = SVC(**svm_grid.best_params_)\n",
    "\n",
    "estimators=[('gbdt', gbdt_model),('svm', svm_model),('gbdt_2', gbdt_model)]\n",
    "ensemble = VotingClassifier(estimators, voting='hard')\n",
    "modified_scores = cross_val_score(ensemble, select_data, y_label[:,0], cv=5, scoring='accuracy')\n",
    "#ensemble.fit(select_data, y_label[:,0])\n",
    "np.mean(modified_scores)"
   ]
  },
  {
   "cell_type": "code",
   "execution_count": 26,
   "metadata": {},
   "outputs": [],
   "source": [
    "from sklearn import preprocessing\n",
    "data_scale = preprocessing.scale(select_data)"
   ]
  },
  {
   "cell_type": "code",
   "execution_count": 27,
   "metadata": {},
   "outputs": [
    {
     "name": "stdout",
     "output_type": "stream",
     "text": [
      "Fitting 5 folds for each of 108 candidates, totalling 540 fits\n"
     ]
    },
    {
     "name": "stderr",
     "output_type": "stream",
     "text": [
      "[Parallel(n_jobs=1)]: Done 540 out of 540 | elapsed: 19.0min finished\n"
     ]
    },
    {
     "data": {
      "text/plain": [
       "({'learning_rate': 0.005,\n",
       "  'max_depth': 10,\n",
       "  'max_features': 10,\n",
       "  'n_estimators': 100},\n",
       " 0.678)"
      ]
     },
     "execution_count": 27,
     "metadata": {},
     "output_type": "execute_result"
    }
   ],
   "source": [
    "warnings.filterwarnings('ignore')\n",
    "\n",
    "gbdt_param_grid_ = {'learning_rate':[0.005,0.01,0.1],\n",
    "                   'n_estimators':[20,50,100],\n",
    "                   'max_depth':[5,10,15],\n",
    "                   'max_features':np.arange(10,90,20),\n",
    "                   }\n",
    "\n",
    "gbdt_clf_ = GradientBoostingClassifier(**gbdt_param_grid_)\n",
    "\n",
    "gbdt_grid_ = GridSearchCV(gbdt_clf_,\n",
    "                    param_grid=gbdt_param_grid_,\n",
    "                    cv=5,\n",
    "                    verbose=1,\n",
    "                    scoring='accuracy')\n",
    "\n",
    "gbdt_grid_.fit(data_scale, y_label[:,0])\n",
    "gbdt_grid_.best_params_, gbdt_grid_.best_score_"
   ]
  },
  {
   "cell_type": "code",
   "execution_count": 28,
   "metadata": {},
   "outputs": [
    {
     "name": "stdout",
     "output_type": "stream",
     "text": [
      "Fitting 5 folds for each of 12 candidates, totalling 60 fits\n"
     ]
    },
    {
     "name": "stderr",
     "output_type": "stream",
     "text": [
      "[Parallel(n_jobs=1)]: Done  60 out of  60 | elapsed: 35.6min finished\n"
     ]
    },
    {
     "data": {
      "text/plain": [
       "({'C': 0.001, 'kernel': 'rbf'}, 0.6776)"
      ]
     },
     "execution_count": 28,
     "metadata": {},
     "output_type": "execute_result"
    }
   ],
   "source": [
    "svm_param_grid_ = {'C':[0.001,0.01,0.1],\n",
    "                   'kernel':['rbf', 'linear', 'poly', 'sigmoid']}\n",
    "\n",
    "svm_clf_ = SVC(**svm_param_grid_)\n",
    "\n",
    "svm_grid_ = GridSearchCV(svm_clf_,\n",
    "                    param_grid=svm_param_grid_,\n",
    "                    cv=5,\n",
    "                    verbose = 1,\n",
    "                    scoring='accuracy')\n",
    "\n",
    "svm_grid_.fit(select_data, y_label[:,0])\n",
    "svm_grid_.best_params_, svm_grid_.best_score_"
   ]
  },
  {
   "cell_type": "code",
   "execution_count": null,
   "metadata": {},
   "outputs": [],
   "source": []
  }
 ],
 "metadata": {
  "kernelspec": {
   "display_name": "Python 3",
   "language": "python",
   "name": "python3"
  },
  "language_info": {
   "codemirror_mode": {
    "name": "ipython",
    "version": 3
   },
   "file_extension": ".py",
   "mimetype": "text/x-python",
   "name": "python",
   "nbconvert_exporter": "python",
   "pygments_lexer": "ipython3",
   "version": "3.6.4"
  }
 },
 "nbformat": 4,
 "nbformat_minor": 2
}
