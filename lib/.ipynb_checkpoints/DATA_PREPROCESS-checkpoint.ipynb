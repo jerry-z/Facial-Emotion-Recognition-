{
 "cells": [
  {
   "cell_type": "code",
   "execution_count": null,
   "metadata": {},
   "outputs": [],
   "source": [
    "import pandas as pd\n",
    "import numpy as np\n",
    "import ipdb\n",
    "from scipy.io import loadmat\n",
    "\n",
    "\n",
    "class FiducialDataProcess(object):\n",
    "\n",
    "\tdef __init__(self, path, num_data, num_features):\n",
    "\t\tself.path = path # \n",
    "\t\tself.num_data = num_data\n",
    "\t\tself.num_features = num_features\n",
    "\t\tself.feature_data = np.zeros((num_data, num_features*(num_features-1)))#np.zeros((2500,78*77))\n",
    "\n",
    "\tdef euc_dist(self, p1, p2):\n",
    "\t\tdist = ((p1[0] - p2[0])**2 + (p1[1] - p2[1])**2)**0.5\n",
    "\t\treturn int(dist)\n",
    "\n",
    "\n",
    "\tdef printkeys(self,i):\n",
    "\t\tdata = loadmat(self.path + '{0:04}'.format(i) +  '.mat')\n",
    "\t\treturn data\n",
    "\n",
    "\tdef preprocess(self):\n",
    "\n",
    "\t\ttotal_features = []\n",
    "\t\tfor i in range(1, self.num_data+1):\n",
    "\t\t\tcurr_feature = []\n",
    "\t\t\tdata = loadmat(self.path + '{0:04}'.format(i) +  '.mat')\n",
    "\n",
    "\t\t\tif 'faceCoordinatesUnwarped' in data:\n",
    "\t\t\t\tarr = data['faceCoordinatesUnwarped']\n",
    "\t\t\telse:\n",
    "\t\t\t\tarr = data['faceCoordinates2']\n",
    "\n",
    "\t\t\tfor j in range(arr.shape[0]-1):\n",
    "\t\t\t\tfor k in range(j+1, arr.shape[0]):\n",
    "\t\t\t\t\tcurr_feature.append(self.euc_dist(arr[j],arr[k]))\n",
    "\t\t\ttotal_features.append(curr_feature)\n",
    "\t\treturn total_features\n",
    "\n",
    "\tdef return_features(self):\n",
    "\t\tt = self.preprocess()\n",
    "\t\treturn t\n",
    "\n"
   ]
  },
  {
   "cell_type": "code",
   "execution_count": null,
   "metadata": {},
   "outputs": [],
   "source": [
    "\n",
    "path = input('INSERT path to the /points/ folder')\n",
    "path_, dirs, files = next(os.walk(path))\n",
    "num_data = file_count\n",
    "num_features = 78\n",
    "\n",
    "feature_array = FiducialDataProcess(path, num_data, num_features)\n",
    "final_features = np.array(feature_array.return_features())\n",
    "path2 = input('INSERT path to the labels.csv file)\n",
    "labelfile = pd.read_csv(path2) #'train_set/label.csv\n",
    "labels = np.array(labelfile['emotion_idx'])  \n",
    "labels2 = np.array(labelfile['type']) \n",
    "for i in range(len(labels2)):\n",
    "    if labels2[i] == 'simple':\n",
    "        labels2[i] = 0 \n",
    "    elif labels2[i] == 'compound':\n",
    "        labels2[i] = 1\n",
    "\n",
    "data_array = np.column_stack((labels2, labels, final_features))\n",
    "np.savetxt(\"dense_data_type_and_emot1.csv\", data_array, fmt=\"%d\", delimiter=\",\")\n",
    "\n",
    "\n"
   ]
  }
 ],
 "metadata": {
  "kernelspec": {
   "display_name": "Python 3",
   "language": "python",
   "name": "python3"
  },
  "language_info": {
   "codemirror_mode": {
    "name": "ipython",
    "version": 3
   },
   "file_extension": ".py",
   "mimetype": "text/x-python",
   "name": "python",
   "nbconvert_exporter": "python",
   "pygments_lexer": "ipython3",
   "version": "3.6.8"
  }
 },
 "nbformat": 4,
 "nbformat_minor": 2
}
