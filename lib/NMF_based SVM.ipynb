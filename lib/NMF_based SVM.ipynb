{
 "cells": [
  {
   "cell_type": "code",
   "execution_count": 71,
   "metadata": {
    "scrolled": true
   },
   "outputs": [
    {
     "name": "stdout",
     "output_type": "stream",
     "text": [
      "Requirement already satisfied: ipdb in /Users/hechongyu1995/anaconda3/lib/python3.6/site-packages (0.12.2)\n",
      "Requirement already satisfied: ipython>=5.1.0; python_version >= \"3.4\" in /Users/hechongyu1995/anaconda3/lib/python3.6/site-packages (from ipdb) (6.2.1)\n",
      "Requirement already satisfied: setuptools in /Users/hechongyu1995/anaconda3/lib/python3.6/site-packages (from ipdb) (38.4.0)\n",
      "Requirement already satisfied: jedi>=0.10 in /Users/hechongyu1995/anaconda3/lib/python3.6/site-packages (from ipython>=5.1.0; python_version >= \"3.4\"->ipdb) (0.11.1)\n",
      "Requirement already satisfied: decorator in /Users/hechongyu1995/anaconda3/lib/python3.6/site-packages (from ipython>=5.1.0; python_version >= \"3.4\"->ipdb) (4.2.1)\n",
      "Requirement already satisfied: pickleshare in /Users/hechongyu1995/anaconda3/lib/python3.6/site-packages (from ipython>=5.1.0; python_version >= \"3.4\"->ipdb) (0.7.4)\n",
      "Requirement already satisfied: simplegeneric>0.8 in /Users/hechongyu1995/anaconda3/lib/python3.6/site-packages (from ipython>=5.1.0; python_version >= \"3.4\"->ipdb) (0.8.1)\n",
      "Requirement already satisfied: traitlets>=4.2 in /Users/hechongyu1995/anaconda3/lib/python3.6/site-packages (from ipython>=5.1.0; python_version >= \"3.4\"->ipdb) (4.3.2)\n",
      "Requirement already satisfied: prompt_toolkit<2.0.0,>=1.0.4 in /Users/hechongyu1995/anaconda3/lib/python3.6/site-packages (from ipython>=5.1.0; python_version >= \"3.4\"->ipdb) (1.0.15)\n",
      "Requirement already satisfied: pygments in /Users/hechongyu1995/anaconda3/lib/python3.6/site-packages (from ipython>=5.1.0; python_version >= \"3.4\"->ipdb) (2.2.0)\n",
      "Requirement already satisfied: appnope in /Users/hechongyu1995/anaconda3/lib/python3.6/site-packages (from ipython>=5.1.0; python_version >= \"3.4\"->ipdb) (0.1.0)\n",
      "Requirement already satisfied: pexpect in /Users/hechongyu1995/anaconda3/lib/python3.6/site-packages (from ipython>=5.1.0; python_version >= \"3.4\"->ipdb) (4.3.1)\n",
      "Requirement already satisfied: parso==0.1.* in /Users/hechongyu1995/anaconda3/lib/python3.6/site-packages (from jedi>=0.10->ipython>=5.1.0; python_version >= \"3.4\"->ipdb) (0.1.1)\n",
      "Requirement already satisfied: ipython_genutils in /Users/hechongyu1995/anaconda3/lib/python3.6/site-packages (from traitlets>=4.2->ipython>=5.1.0; python_version >= \"3.4\"->ipdb) (0.2.0)\n",
      "Requirement already satisfied: six in /Users/hechongyu1995/anaconda3/lib/python3.6/site-packages (from traitlets>=4.2->ipython>=5.1.0; python_version >= \"3.4\"->ipdb) (1.11.0)\n",
      "Requirement already satisfied: wcwidth in /Users/hechongyu1995/anaconda3/lib/python3.6/site-packages (from prompt_toolkit<2.0.0,>=1.0.4->ipython>=5.1.0; python_version >= \"3.4\"->ipdb) (0.1.7)\n",
      "\u001b[33mWARNING: You are using pip version 19.2.1, however version 19.3.1 is available.\n",
      "You should consider upgrading via the 'pip install --upgrade pip' command.\u001b[0m\n",
      "(2000, 3004) (500, 3004)\n"
     ]
    },
    {
     "ename": "KeyboardInterrupt",
     "evalue": "",
     "output_type": "error",
     "traceback": [
      "\u001b[0;31m---------------------------------------------------------------------------\u001b[0m",
      "\u001b[0;31mKeyboardInterrupt\u001b[0m                         Traceback (most recent call last)",
      "\u001b[0;32m<ipython-input-71-7e7dae426ca2>\u001b[0m in \u001b[0;36m<module>\u001b[0;34m()\u001b[0m\n\u001b[1;32m     50\u001b[0m     \u001b[0mnmf_total\u001b[0m \u001b[0;34m=\u001b[0m \u001b[0mNMF_Data\u001b[0m\u001b[0;34m(\u001b[0m\u001b[0mfeatures\u001b[0m\u001b[0;34m,\u001b[0m \u001b[0mlabels\u001b[0m\u001b[0;34m)\u001b[0m\u001b[0;34m\u001b[0m\u001b[0m\n\u001b[1;32m     51\u001b[0m     \u001b[0mfilename\u001b[0m \u001b[0;34m=\u001b[0m \u001b[0;34m'nmf_features_type_emot.npy'\u001b[0m\u001b[0;34m\u001b[0m\u001b[0m\n\u001b[0;32m---> 52\u001b[0;31m     \u001b[0mnmf_total\u001b[0m\u001b[0;34m.\u001b[0m\u001b[0msave_nmf\u001b[0m\u001b[0;34m(\u001b[0m\u001b[0mfilename\u001b[0m\u001b[0;34m)\u001b[0m\u001b[0;34m\u001b[0m\u001b[0m\n\u001b[0m\u001b[1;32m     53\u001b[0m \u001b[0;34m\u001b[0m\u001b[0m\n\u001b[1;32m     54\u001b[0m \u001b[0;34m\u001b[0m\u001b[0m\n",
      "\u001b[0;32m<ipython-input-71-7e7dae426ca2>\u001b[0m in \u001b[0;36msave_nmf\u001b[0;34m(self, filename)\u001b[0m\n\u001b[1;32m     37\u001b[0m \u001b[0;34m\u001b[0m\u001b[0m\n\u001b[1;32m     38\u001b[0m         \u001b[0;32mdef\u001b[0m \u001b[0msave_nmf\u001b[0m\u001b[0;34m(\u001b[0m\u001b[0mself\u001b[0m\u001b[0;34m,\u001b[0m \u001b[0mfilename\u001b[0m\u001b[0;34m)\u001b[0m\u001b[0;34m:\u001b[0m\u001b[0;34m\u001b[0m\u001b[0m\n\u001b[0;32m---> 39\u001b[0;31m                 \u001b[0mself\u001b[0m\u001b[0;34m.\u001b[0m\u001b[0mcreate_nmf\u001b[0m\u001b[0;34m(\u001b[0m\u001b[0;34m)\u001b[0m\u001b[0;34m\u001b[0m\u001b[0m\n\u001b[0m\u001b[1;32m     40\u001b[0m                 \u001b[0mnp\u001b[0m\u001b[0;34m.\u001b[0m\u001b[0msave\u001b[0m\u001b[0;34m(\u001b[0m\u001b[0mfilename\u001b[0m\u001b[0;34m,\u001b[0m \u001b[0mself\u001b[0m\u001b[0;34m.\u001b[0m\u001b[0mnmf_features\u001b[0m\u001b[0;34m)\u001b[0m\u001b[0;34m\u001b[0m\u001b[0m\n\u001b[1;32m     41\u001b[0m \u001b[0;34m\u001b[0m\u001b[0m\n",
      "\u001b[0;32m<ipython-input-71-7e7dae426ca2>\u001b[0m in \u001b[0;36mcreate_nmf\u001b[0;34m(self, test_size)\u001b[0m\n\u001b[1;32m     25\u001b[0m                 \u001b[0mnmf\u001b[0m\u001b[0;34m.\u001b[0m\u001b[0mfit\u001b[0m\u001b[0;34m(\u001b[0m\u001b[0mx_train\u001b[0m\u001b[0;34m)\u001b[0m\u001b[0;34m\u001b[0m\u001b[0m\n\u001b[1;32m     26\u001b[0m \u001b[0;34m\u001b[0m\u001b[0m\n\u001b[0;32m---> 27\u001b[0;31m                 \u001b[0mx_train_nmf\u001b[0m \u001b[0;34m=\u001b[0m \u001b[0mnmf\u001b[0m\u001b[0;34m.\u001b[0m\u001b[0mtransform\u001b[0m\u001b[0;34m(\u001b[0m\u001b[0mx_train\u001b[0m\u001b[0;34m)\u001b[0m\u001b[0;34m\u001b[0m\u001b[0m\n\u001b[0m\u001b[1;32m     28\u001b[0m                 \u001b[0mx_test_nmf\u001b[0m \u001b[0;34m=\u001b[0m \u001b[0mnmf\u001b[0m\u001b[0;34m.\u001b[0m\u001b[0mtransform\u001b[0m\u001b[0;34m(\u001b[0m\u001b[0mx_test\u001b[0m\u001b[0;34m)\u001b[0m\u001b[0;34m\u001b[0m\u001b[0m\n\u001b[1;32m     29\u001b[0m \u001b[0;34m\u001b[0m\u001b[0m\n",
      "\u001b[0;32m~/anaconda3/lib/python3.6/site-packages/sklearn/decomposition/nmf.py\u001b[0m in \u001b[0;36mtransform\u001b[0;34m(self, X)\u001b[0m\n\u001b[1;32m   1282\u001b[0m             \u001b[0malpha\u001b[0m\u001b[0;34m=\u001b[0m\u001b[0mself\u001b[0m\u001b[0;34m.\u001b[0m\u001b[0malpha\u001b[0m\u001b[0;34m,\u001b[0m \u001b[0ml1_ratio\u001b[0m\u001b[0;34m=\u001b[0m\u001b[0mself\u001b[0m\u001b[0;34m.\u001b[0m\u001b[0ml1_ratio\u001b[0m\u001b[0;34m,\u001b[0m \u001b[0mregularization\u001b[0m\u001b[0;34m=\u001b[0m\u001b[0;34m'both'\u001b[0m\u001b[0;34m,\u001b[0m\u001b[0;34m\u001b[0m\u001b[0m\n\u001b[1;32m   1283\u001b[0m             \u001b[0mrandom_state\u001b[0m\u001b[0;34m=\u001b[0m\u001b[0mself\u001b[0m\u001b[0;34m.\u001b[0m\u001b[0mrandom_state\u001b[0m\u001b[0;34m,\u001b[0m \u001b[0mverbose\u001b[0m\u001b[0;34m=\u001b[0m\u001b[0mself\u001b[0m\u001b[0;34m.\u001b[0m\u001b[0mverbose\u001b[0m\u001b[0;34m,\u001b[0m\u001b[0;34m\u001b[0m\u001b[0m\n\u001b[0;32m-> 1284\u001b[0;31m             shuffle=self.shuffle)\n\u001b[0m\u001b[1;32m   1285\u001b[0m \u001b[0;34m\u001b[0m\u001b[0m\n\u001b[1;32m   1286\u001b[0m         \u001b[0;32mreturn\u001b[0m \u001b[0mW\u001b[0m\u001b[0;34m\u001b[0m\u001b[0m\n",
      "\u001b[0;32m~/anaconda3/lib/python3.6/site-packages/sklearn/decomposition/nmf.py\u001b[0m in \u001b[0;36mnon_negative_factorization\u001b[0;34m(X, W, H, n_components, init, update_H, solver, beta_loss, tol, max_iter, alpha, l1_ratio, regularization, random_state, verbose, shuffle)\u001b[0m\n\u001b[1;32m   1021\u001b[0m                                                \u001b[0mverbose\u001b[0m\u001b[0;34m=\u001b[0m\u001b[0mverbose\u001b[0m\u001b[0;34m,\u001b[0m\u001b[0;34m\u001b[0m\u001b[0m\n\u001b[1;32m   1022\u001b[0m                                                \u001b[0mshuffle\u001b[0m\u001b[0;34m=\u001b[0m\u001b[0mshuffle\u001b[0m\u001b[0;34m,\u001b[0m\u001b[0;34m\u001b[0m\u001b[0m\n\u001b[0;32m-> 1023\u001b[0;31m                                                random_state=random_state)\n\u001b[0m\u001b[1;32m   1024\u001b[0m     \u001b[0;32melif\u001b[0m \u001b[0msolver\u001b[0m \u001b[0;34m==\u001b[0m \u001b[0;34m'mu'\u001b[0m\u001b[0;34m:\u001b[0m\u001b[0;34m\u001b[0m\u001b[0m\n\u001b[1;32m   1025\u001b[0m         W, H, n_iter = _fit_multiplicative_update(X, W, H, beta_loss, max_iter,\n",
      "\u001b[0;32m~/anaconda3/lib/python3.6/site-packages/sklearn/decomposition/nmf.py\u001b[0m in \u001b[0;36m_fit_coordinate_descent\u001b[0;34m(X, W, H, tol, max_iter, l1_reg_W, l1_reg_H, l2_reg_W, l2_reg_H, update_H, verbose, shuffle, random_state)\u001b[0m\n\u001b[1;32m    483\u001b[0m         \u001b[0;31m# Update W\u001b[0m\u001b[0;34m\u001b[0m\u001b[0;34m\u001b[0m\u001b[0m\n\u001b[1;32m    484\u001b[0m         violation += _update_coordinate_descent(X, W, Ht, l1_reg_W,\n\u001b[0;32m--> 485\u001b[0;31m                                                 l2_reg_W, shuffle, rng)\n\u001b[0m\u001b[1;32m    486\u001b[0m         \u001b[0;31m# Update H\u001b[0m\u001b[0;34m\u001b[0m\u001b[0;34m\u001b[0m\u001b[0m\n\u001b[1;32m    487\u001b[0m         \u001b[0;32mif\u001b[0m \u001b[0mupdate_H\u001b[0m\u001b[0;34m:\u001b[0m\u001b[0;34m\u001b[0m\u001b[0m\n",
      "\u001b[0;32m~/anaconda3/lib/python3.6/site-packages/sklearn/decomposition/nmf.py\u001b[0m in \u001b[0;36m_update_coordinate_descent\u001b[0;34m(X, W, Ht, l1_reg, l2_reg, shuffle, random_state)\u001b[0m\n\u001b[1;32m    381\u001b[0m \u001b[0;34m\u001b[0m\u001b[0m\n\u001b[1;32m    382\u001b[0m     \u001b[0mHHt\u001b[0m \u001b[0;34m=\u001b[0m \u001b[0mnp\u001b[0m\u001b[0;34m.\u001b[0m\u001b[0mdot\u001b[0m\u001b[0;34m(\u001b[0m\u001b[0mHt\u001b[0m\u001b[0;34m.\u001b[0m\u001b[0mT\u001b[0m\u001b[0;34m,\u001b[0m \u001b[0mHt\u001b[0m\u001b[0;34m)\u001b[0m\u001b[0;34m\u001b[0m\u001b[0m\n\u001b[0;32m--> 383\u001b[0;31m     \u001b[0mXHt\u001b[0m \u001b[0;34m=\u001b[0m \u001b[0msafe_sparse_dot\u001b[0m\u001b[0;34m(\u001b[0m\u001b[0mX\u001b[0m\u001b[0;34m,\u001b[0m \u001b[0mHt\u001b[0m\u001b[0;34m)\u001b[0m\u001b[0;34m\u001b[0m\u001b[0m\n\u001b[0m\u001b[1;32m    384\u001b[0m \u001b[0;34m\u001b[0m\u001b[0m\n\u001b[1;32m    385\u001b[0m     \u001b[0;31m# L2 regularization corresponds to increase of the diagonal of HHt\u001b[0m\u001b[0;34m\u001b[0m\u001b[0;34m\u001b[0m\u001b[0m\n",
      "\u001b[0;32m~/anaconda3/lib/python3.6/site-packages/sklearn/utils/extmath.py\u001b[0m in \u001b[0;36msafe_sparse_dot\u001b[0;34m(a, b, dense_output)\u001b[0m\n\u001b[1;32m    138\u001b[0m         \u001b[0;32mreturn\u001b[0m \u001b[0mret\u001b[0m\u001b[0;34m\u001b[0m\u001b[0m\n\u001b[1;32m    139\u001b[0m     \u001b[0;32melse\u001b[0m\u001b[0;34m:\u001b[0m\u001b[0;34m\u001b[0m\u001b[0m\n\u001b[0;32m--> 140\u001b[0;31m         \u001b[0;32mreturn\u001b[0m \u001b[0mnp\u001b[0m\u001b[0;34m.\u001b[0m\u001b[0mdot\u001b[0m\u001b[0;34m(\u001b[0m\u001b[0ma\u001b[0m\u001b[0;34m,\u001b[0m \u001b[0mb\u001b[0m\u001b[0;34m)\u001b[0m\u001b[0;34m\u001b[0m\u001b[0m\n\u001b[0m\u001b[1;32m    141\u001b[0m \u001b[0;34m\u001b[0m\u001b[0m\n\u001b[1;32m    142\u001b[0m \u001b[0;34m\u001b[0m\u001b[0m\n",
      "\u001b[0;31mKeyboardInterrupt\u001b[0m: "
     ]
    }
   ],
   "source": [
    "!pip install ipdb\n",
    "#from data_preprocess import FiducialDataProcess\n",
    "import ipdb\n",
    "import numpy as np\n",
    "import tensorflow as tf\n",
    "from tensorflow import keras\n",
    "import matplotlib.pyplot as plt\n",
    "import pandas as pd\n",
    "from sklearn.datasets import load_breast_cancer\n",
    "from sklearn.model_selection import train_test_split\n",
    "from sklearn.decomposition import NMF\n",
    "import warnings\n",
    "\n",
    "class NMF_Data(object):\n",
    "\tdef __init__(self, dat_x, dat_y):\n",
    "\t\tself.dat_x = dat_x\n",
    "\t\tself.dat_y = dat_y\n",
    "\t\tself.nmf_features = []\n",
    "\n",
    "\tdef create_nmf(self, test_size=500):\n",
    "\t\tx_train, x_test, y_train, y_test = train_test_split(self.dat_x, self.dat_y, random_state=1, test_size = test_size)\n",
    "\t\tprint(x_train.shape, x_test.shape)\n",
    "\t\t\n",
    "\t\tnmf = NMF(n_components=300, random_state=0)\n",
    "\t\tnmf.fit(x_train)\n",
    "\n",
    "\t\tx_train_nmf = nmf.transform(x_train)\n",
    "\t\tx_test_nmf = nmf.transform(x_test)\n",
    "\n",
    "\t\tself.nmf_features.append(x_train_nmf)\n",
    "\t\tself.nmf_features.append(y_train)\n",
    "\t\tself.nmf_features.append(x_test_nmf)\n",
    "\t\tself.nmf_features.append(y_test)\n",
    "\n",
    "\tdef get_nmf_features(self):\n",
    "\t\treturn self.nmf_features\n",
    "\n",
    "\tdef save_nmf(self, filename):\n",
    "\t\tself.create_nmf()\n",
    "\t\tnp.save(filename, self.nmf_features)\n",
    "\n",
    "\n",
    "if __name__ == '__main__':\n",
    "    my_data = np.genfromtxt('dense_data_type_and_emot.csv', delimiter=',')\n",
    "    np.random.seed(0)\n",
    "    np.random.shuffle(my_data)\t\n",
    "    features_init = my_data[:,1:]\n",
    "    features = features_init / features_init.max(axis=0)\n",
    "    labels = my_data[:,0:2] \n",
    "    nmf_total = NMF_Data(features, labels)\n",
    "    filename = 'nmf_features_type_emot.npy'\n",
    "    nmf_total.save_nmf(filename)\n",
    "\n",
    "\n",
    "\t# dat = pd.read_csv(\"nmf_faducial.csv\", index_col=0)\n",
    "\t# dat_x = dat.loc[:,'feature1':'feature6006']\n",
    "\t# dat_y = dat.loc[:, 'emotion_idx']\n",
    "\t# nmf_total = NMF_Data(dat_x, dat_y)\n",
    "\t# nmf_total.save_nmf()"
   ]
  },
  {
   "cell_type": "code",
   "execution_count": 19,
   "metadata": {},
   "outputs": [
    {
     "name": "stdout",
     "output_type": "stream",
     "text": [
      "(2000, 3004) (500, 3004)\n"
     ]
    }
   ],
   "source": [
    "nmf_create = NMF_Data.create_nmf(nmf_total)\n",
    "data_get = NMF_Data.get_nmf_features(nmf_total)"
   ]
  },
  {
   "cell_type": "code",
   "execution_count": 25,
   "metadata": {},
   "outputs": [],
   "source": [
    "x_train, y_train, x_test, y_test = data_get[0], data_get[1], data_get[2], data_get[3]"
   ]
  },
  {
   "cell_type": "markdown",
   "metadata": {},
   "source": [
    "## SVM for 0/1"
   ]
  },
  {
   "cell_type": "code",
   "execution_count": 68,
   "metadata": {},
   "outputs": [
    {
     "name": "stdout",
     "output_type": "stream",
     "text": [
      "Fitting 5 folds for each of 32 candidates, totalling 160 fits\n"
     ]
    },
    {
     "name": "stderr",
     "output_type": "stream",
     "text": [
      "[Parallel(n_jobs=1)]: Done 160 out of 160 | elapsed:   41.7s finished\n"
     ]
    },
    {
     "data": {
      "text/plain": [
       "({'C': 500, 'kernel': 'linear'}, 0.9885)"
      ]
     },
     "execution_count": 68,
     "metadata": {},
     "output_type": "execute_result"
    }
   ],
   "source": [
    "from sklearn.grid_search import GridSearchCV\n",
    "from sklearn.svm import SVC\n",
    "from sklearn.model_selection import cross_val_score\n",
    "\n",
    "warnings.filterwarnings('ignore')\n",
    "svm_param_grid = {'C':[0.001,0.01,0.1,1,10,50,100,500],\n",
    "                   'kernel':['rbf', 'linear', 'poly', 'sigmoid']}\n",
    "\n",
    "svm_clf = SVC(**svm_param_grid)\n",
    "\n",
    "grid = GridSearchCV(svm_clf,\n",
    "                    param_grid=svm_param_grid,\n",
    "                    cv=5,\n",
    "                    verbose = 1,\n",
    "                    scoring='accuracy')\n",
    "\n",
    "grid.fit(x_train, y_train[:,0])\n",
    "grid.best_params_, grid.best_score_"
   ]
  },
  {
   "cell_type": "code",
   "execution_count": 69,
   "metadata": {},
   "outputs": [
    {
     "data": {
      "text/plain": [
       "0.988"
      ]
     },
     "execution_count": 69,
     "metadata": {},
     "output_type": "execute_result"
    }
   ],
   "source": [
    "svm_best = SVC(**grid.best_params_)\n",
    "svm_best.fit(x_train,y_train[:,0])\n",
    "score_svm = svm_best.score(x_test,y_test[:,0])\n",
    "score_svm"
   ]
  },
  {
   "cell_type": "code",
   "execution_count": 70,
   "metadata": {},
   "outputs": [
    {
     "name": "stdout",
     "output_type": "stream",
     "text": [
      "overall accuracy is 0.988\n"
     ]
    }
   ],
   "source": [
    "print ('overall accuracy is ' + str(score_svm))"
   ]
  },
  {
   "cell_type": "markdown",
   "metadata": {},
   "source": [
    "## SVM for multi emotion classification"
   ]
  },
  {
   "cell_type": "code",
   "execution_count": 37,
   "metadata": {},
   "outputs": [
    {
     "name": "stdout",
     "output_type": "stream",
     "text": [
      "Fitting 5 folds for each of 64 candidates, totalling 320 fits\n"
     ]
    },
    {
     "name": "stderr",
     "output_type": "stream",
     "text": [
      "[Parallel(n_jobs=1)]: Done 320 out of 320 | elapsed:  3.2min finished\n"
     ]
    },
    {
     "data": {
      "text/plain": [
       "({'C': 100, 'decision_function_shape': 'ovr', 'kernel': 'linear'}, 0.4825)"
      ]
     },
     "execution_count": 37,
     "metadata": {},
     "output_type": "execute_result"
    }
   ],
   "source": [
    "svm_param_grid = {'C':[0.001,0.01,0.1,1,10,50,100,500],\n",
    "                   'kernel':['rbf', 'linear', 'poly', 'sigmoid'],\n",
    "                   'decision_function_shape': ['ovr', 'ovo']}\n",
    "\n",
    "svm_clf_multi = SVC(**svm_param_grid)\n",
    "\n",
    "grid = GridSearchCV(svm_clf_multi,\n",
    "                    param_grid=svm_param_grid,\n",
    "                    cv=5,\n",
    "                    verbose = 1,\n",
    "                    scoring='accuracy')\n",
    "\n",
    "grid.fit(x_train, y_train[:,1])\n",
    "grid.best_params_, grid.best_score_"
   ]
  },
  {
   "cell_type": "code",
   "execution_count": 38,
   "metadata": {},
   "outputs": [
    {
     "data": {
      "text/plain": [
       "0.474"
      ]
     },
     "execution_count": 38,
     "metadata": {},
     "output_type": "execute_result"
    }
   ],
   "source": [
    "svm_best = SVC(**grid.best_params_)\n",
    "svm_best.fit(x_train,y_train[:,1])\n",
    "score_svm = svm_best.score(x_test,y_test[:,1])\n",
    "score_svm"
   ]
  },
  {
   "cell_type": "code",
   "execution_count": 54,
   "metadata": {},
   "outputs": [
    {
     "name": "stdout",
     "output_type": "stream",
     "text": [
      "Fitting 5 folds for each of 64 candidates, totalling 320 fits\n"
     ]
    },
    {
     "name": "stderr",
     "output_type": "stream",
     "text": [
      "[Parallel(n_jobs=1)]: Done 320 out of 320 | elapsed:   17.0s finished\n"
     ]
    },
    {
     "data": {
      "text/plain": [
       "({'C': 500, 'decision_function_shape': 'ovr', 'kernel': 'rbf'},\n",
       " 0.7370078740157481)"
      ]
     },
     "execution_count": 54,
     "metadata": {},
     "output_type": "execute_result"
    }
   ],
   "source": [
    "y_train_simple, y_test_simple = y_train[:,0], y_test[:,0]\n",
    "x_train_0 = x_train[np.where(y_train_simple==0)]\n",
    "y_train_compund_0 = y_train[:,1][np.where(y_train_simple==0)]\n",
    "\n",
    "svm_param_grid = {'C':[0.001,0.01,0.1,1,10,50,100,500],\n",
    "                   'kernel':['rbf', 'linear', 'poly', 'sigmoid'],\n",
    "                   'decision_function_shape': ['ovr', 'ovo']}\n",
    "\n",
    "svm_clf_compund_0 = SVC(**svm_param_grid)\n",
    "\n",
    "grid = GridSearchCV(svm_clf_compund_0,\n",
    "                    param_grid=svm_param_grid,\n",
    "                    cv=5,\n",
    "                    verbose = 1,\n",
    "                    scoring='accuracy')\n",
    "\n",
    "grid.fit(x_train_0, y_train_compund_0)\n",
    "grid.best_params_, grid.best_score_"
   ]
  },
  {
   "cell_type": "code",
   "execution_count": 55,
   "metadata": {},
   "outputs": [
    {
     "data": {
      "text/plain": [
       "0.7543859649122807"
      ]
     },
     "execution_count": 55,
     "metadata": {},
     "output_type": "execute_result"
    }
   ],
   "source": [
    "x_test_0 = x_test[np.where(y_test_simple==0)]\n",
    "y_test_compund_0 = y_test[:,1][np.where(y_test_simple==0)]\n",
    "\n",
    "svm_best_compound_0 = SVC(**grid.best_params_)\n",
    "svm_best_compound_0.fit(x_train_0, y_train_compund_0)\n",
    "score_svm_compound_0 = svm_best_compound_0.score(x_test_0, y_test_compund_0)\n",
    "score_svm_compound_0"
   ]
  },
  {
   "cell_type": "code",
   "execution_count": 61,
   "metadata": {},
   "outputs": [
    {
     "name": "stdout",
     "output_type": "stream",
     "text": [
      "Fitting 5 folds for each of 64 candidates, totalling 320 fits\n"
     ]
    },
    {
     "name": "stderr",
     "output_type": "stream",
     "text": [
      "[Parallel(n_jobs=1)]: Done 320 out of 320 | elapsed:  1.5min finished\n"
     ]
    },
    {
     "data": {
      "text/plain": [
       "({'C': 50, 'decision_function_shape': 'ovr', 'kernel': 'linear'},\n",
       " 0.49157509157509155)"
      ]
     },
     "execution_count": 61,
     "metadata": {},
     "output_type": "execute_result"
    }
   ],
   "source": [
    "y_train_simple, y_test_simple = y_train[:,0], y_test[:,0]\n",
    "x_train_1 = x_train[np.where(y_train_simple==1)]\n",
    "y_train_compund_1 = y_train[:,1][np.where(y_train_simple==1)]\n",
    "\n",
    "svm_param_grid = {'C':[0.001,0.01,0.1,1,10,50,100,500],\n",
    "                   'kernel':['rbf', 'linear', 'poly', 'sigmoid'],\n",
    "                   'decision_function_shape': ['ovr', 'ovo']}\n",
    "\n",
    "svm_clf_compund_1 = SVC(**svm_param_grid)\n",
    "\n",
    "grid = GridSearchCV(svm_clf_compund_1,\n",
    "                    param_grid=svm_param_grid,\n",
    "                    cv=5,\n",
    "                    verbose = 1,\n",
    "                    scoring='accuracy')\n",
    "\n",
    "grid.fit(x_train_1, y_train_compund_1)\n",
    "grid.best_params_, grid.best_score_"
   ]
  },
  {
   "cell_type": "code",
   "execution_count": 62,
   "metadata": {},
   "outputs": [
    {
     "data": {
      "text/plain": [
       "0.46200607902735563"
      ]
     },
     "execution_count": 62,
     "metadata": {},
     "output_type": "execute_result"
    }
   ],
   "source": [
    "x_test_1 = x_test[np.where(y_test_simple==1)]\n",
    "y_test_compund_1 = y_test[:,1][np.where(y_test_simple==1)]\n",
    "\n",
    "svm_best_compound_1 = SVC(**grid.best_params_)\n",
    "svm_best_compound_1.fit(x_train_1, y_train_compund_1)\n",
    "score_svm_compound_1 = svm_best_compound_1.score(x_test_1, y_test_compund_1)\n",
    "score_svm_compound_1"
   ]
  },
  {
   "cell_type": "code",
   "execution_count": 65,
   "metadata": {},
   "outputs": [
    {
     "name": "stdout",
     "output_type": "stream",
     "text": [
      "overall accuracy is 0.562\n"
     ]
    }
   ],
   "source": [
    "overall_acc = (len(y_test_compund_0)*score_svm_compound_0+len(y_test_compund_1)*score_svm_compound_1)/len(y_test)\n",
    "print ('overall accuracy is ' + str(overall_acc))"
   ]
  },
  {
   "cell_type": "code",
   "execution_count": null,
   "metadata": {},
   "outputs": [],
   "source": []
  }
 ],
 "metadata": {
  "kernelspec": {
   "display_name": "Python 3",
   "language": "python",
   "name": "python3"
  },
  "language_info": {
   "codemirror_mode": {
    "name": "ipython",
    "version": 3
   },
   "file_extension": ".py",
   "mimetype": "text/x-python",
   "name": "python",
   "nbconvert_exporter": "python",
   "pygments_lexer": "ipython3",
   "version": "3.6.4"
  }
 },
 "nbformat": 4,
 "nbformat_minor": 2
}
